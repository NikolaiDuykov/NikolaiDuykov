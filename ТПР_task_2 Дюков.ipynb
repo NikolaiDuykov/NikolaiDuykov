{
  "nbformat": 4,
  "nbformat_minor": 0,
  "metadata": {
    "colab": {
      "provenance": []
    },
    "kernelspec": {
      "name": "python3",
      "display_name": "Python 3"
    },
    "language_info": {
      "name": "python"
    }
  },
  "cells": [
    {
      "cell_type": "markdown",
      "source": [
        "# Практическая работа №2\n",
        "## Тема: применение методов линейного программирования для решения практической задачи\n",
        "Вариант 36 (473)\n",
        "\n",
        "Выполнил студент гр.1374 Дюков Николай.\n",
        "\n",
        "Преподаватель: Пономарев Андрей Васильевич"
      ],
      "metadata": {
        "id": "CQ0JqbnKvgWt"
      }
    },
    {
      "cell_type": "markdown",
      "source": [
        "## ***Цель работы***\n",
        "Решить практическую задачу с помощью применения методов линейного программирования"
      ],
      "metadata": {
        "id": "eQRmFqtNvpCJ"
      }
    },
    {
      "cell_type": "markdown",
      "source": [
        "**Актуальное индивидуальное задание**\n",
        "\n",
        "Часть прибыли, получаемой от работы 1-го и 2-го цехов в течение одного года, планируется использовать для приобретения оборудования для нового третьего цеха. Доля средств, отчисляемая ежеквартально из прибыли от работы 1-го и 2-го цехов на приобретение оборудования для 3-го цеха, составляет 75 %. Оборудование нового цеха предполагается разместить на площади 180 кв.м. Возможно приобретение пяти видов однородного оборудования, характеристики которого представлены в таблице 1.\n",
        "\n",
        "Таблица 1: Характеристики оборудования\n",
        "\n",
        "|Вид|Стоимость (млн.руб)|Требуемая площадь (кв.м)|Производительность оборудования (шт.)|\n",
        "|----|----|----|----|\n",
        "|Тип 1| 39| 23| 1400|\n",
        "|Тип 2| 38| 21| 900|\n",
        "|Тип 3| 29| 27| 1000|\n",
        "|Тип 4| 57| 8| 900|\n",
        "|Тип 5| 49| 20| 1600|\n",
        "\n",
        "Необходимо обеспечить максимальную производительность цеха и провести исследование полученного решения.\n",
        "\n",
        "1. Имея в виду необходимость получения ЦЕЛОЧИСЛЕННОГО решения, найти оптимальный план приобретения оборудования для третьего цеха.\n",
        "2. Исследовать полученное решение на чувствительность к изменению стоимостного ограничения, связанному с возможным изменением соотношения цен и средств:\n",
        "- выяснить влияние изменения (увеличения, уменьшения) количества средств на переход роли активного ограничения (либо по площади, либо по стоимости), и вследствие этого — на выбор оптимального типа оборудования;\n",
        "- выяснить границы изменения количества средств, в пределах которых оптимальным\n",
        "является выбор 2-х и более типов оборудования.\n",
        "\n"
      ],
      "metadata": {
        "id": "aTy-URKSlkUp"
      }
    },
    {
      "cell_type": "markdown",
      "source": [
        "## ***Постановка задачи***\n",
        "Необходимо разработать оптимальный план приобретения оборудования для третьего цеха, используя часть прибыли от работы 1-го и 2-го цехов. Доля средств отчисляется ежеквартально на покупку оборудования для третьего цеха. Оборудование третьего цеха должно быть установлено на площади 180 кв.м. Также необходимо исследовать полученное решение на чувствительность к изменениям стоимостного ограничения и количества средств."
      ],
      "metadata": {
        "id": "xz6dUtIhv0T6"
      }
    },
    {
      "cell_type": "markdown",
      "source": [
        "## ***Выполнение работы***"
      ],
      "metadata": {
        "id": "4KpnSRaMv-MR"
      }
    },
    {
      "cell_type": "markdown",
      "source": [
        "**Формализация задачи**\n",
        "\n",
        "- $x_i$: количество единиц оборудования i, приобретаемого для 3-го цеха, где i = 1,2,3,4,5 (шт.).\n",
        "- $y_1$ - прибыль 1-го цеха (млн.руб)\n",
        "- $y_2$ - прибыль 2-го цеха (млн.руб)\n",
        "- $p_1$: количество средств, вложенных в 1-й цех за квартал (в единицах)\n",
        "- $p_2$: количество средств, вложенных во 2-й цех за квартал (в единицах)\n",
        "\n",
        "Функции дохода:\n",
        "\n",
        "- Для 1-го цеха: $𝑦_1 = 60 + 1.3 \\cdot p_1^\\frac{2}{3}$(млн.руб)\n",
        "- Для 2-го цеха: $𝑦_2 = 70 + 0.8 \\cdot p_2^\\frac{2}{3}$(млн.руб)\n"
      ],
      "metadata": {
        "id": "QqTXpSWtQtiJ"
      }
    },
    {
      "cell_type": "markdown",
      "source": [
        "**Целевая функция**"
      ],
      "metadata": {
        "id": "Z40PLCS3RNw2"
      }
    },
    {
      "cell_type": "markdown",
      "source": [
        "Мы хотим максимизировать производительность третьего цеха. Поэтому целевая функция будет выглядеть следующим образом:\n",
        "\n",
        "$1400 \\cdot x_1 + 900 \\cdot x_2 + 1000 \\cdot x_3 + 900 \\cdot x_4 + 1600 \\cdot x_5 \\to max$"
      ],
      "metadata": {
        "id": "-QER-Tq0RTVg"
      }
    },
    {
      "cell_type": "markdown",
      "source": [
        "**Ограничения**"
      ],
      "metadata": {
        "id": "aAgULkaLRRA2"
      }
    },
    {
      "cell_type": "markdown",
      "source": [
        "\n",
        "1. Стоимостное ограничение:\n",
        "   - Общая стоимость оборудования не должна превышать доступное количество средств, которое равно 75% от прибыли от работы 1-го и 2-го цехов за год.\n",
        "\n",
        "   $39 \\cdot x_1 + 38 \\cdot x_2 + 29 \\cdot x_3 + 57 \\cdot x_4 + 49 \\cdot x_5 \\leq 0.75 \\cdot (y_1 + y_2)$\n",
        "\n",
        "2. Ограничение по площади:\n",
        "   - Общая площадь оборудования 180 кв.м.\n",
        "\n",
        "   $23 \\cdot x_1 + 21 \\cdot x_2 + 27 \\cdot x_3 + 8 \\cdot x_4 + 20 \\cdot x_5 \\leq 180$\n",
        "\n",
        "3. Целочисленность переменных:\n",
        "   - Так как нельзя приобрести дробное количество оборудования, переменные должны быть целочисленными и количетсво оборудования не может быть отрицательным:\n",
        "\n",
        "   $x_i \\in \\mathbb{Z}^+$ и $x_i ≥ 0$"
      ],
      "metadata": {
        "id": "LLqIS2M8RZVR"
      }
    },
    {
      "cell_type": "markdown",
      "source": [
        "**Решение задачи оптимизации**\n",
        "\n",
        "Для приобретения оборудования третьего цеха с учетом ограничений по стоимости, площади и неотрицательности переменных.\n",
        "\n",
        "- Сначала мы вычисляем общее количество доступных средств за каждый квартал, используя данные о количестве средств, выделенных на развитие цехов и о доходах от их работы. (данные по кварталам взяли из задания №1)\n",
        "\n",
        "```\n",
        "# result = 0\n",
        "quarters = [\n",
        "    {\"ceh1\": 133, \"ceh2\": 52},\n",
        "    {\"ceh1\": 91, \"ceh2\": 36},\n",
        "    {\"ceh1\": 62, \"ceh2\": 25},\n",
        "    {\"ceh1\": 43, \"ceh2\": 17}\n",
        "]\n",
        "\n",
        "for idx, quarter in enumerate(quarters, start=1):\n",
        "    total = 0.75 * ((60 + 1.3 * (quarter[\"ceh1\"]) ** (2/3)) + (70 + 0.8 * (quarter[\"ceh2\"]) ** (2/3)))\n",
        "    result += total\n",
        "```\n",
        "\n",
        "- Создаем экземпляр задачи линейного программирования с помощью функции LpProblem, указывая, что мы хотим максимизировать производительность третьего цеха (LpMaximize).\n",
        "\n",
        "```\n",
        "# prob = LpProblem(\"Optimal_equipment\", LpMaximize)\n",
        "```\n",
        "\n",
        "- Мы создаем переменные решения x1, x2, x3, x4 и x5, которые представляют количество единиц оборудования каждого типа.\n",
        "\n",
        "\n",
        "```\n",
        "# x1 = LpVariable(\"x1\", lowBound=0, cat='Integer')\n",
        "x2 = LpVariable(\"x2\", lowBound=0, cat='Integer')\n",
        "x3 = LpVariable(\"x3\", lowBound=0, cat='Integer')\n",
        "x4 = LpVariable(\"x4\", lowBound=0, cat='Integer')\n",
        "x5 = LpVariable(\"x5\", lowBound=0, cat='Integer')\n",
        "```\n",
        "\n",
        " lowBound=0: означает, что переменные не могут принимать значения меньше нуля.\n",
        "\n",
        " cat='Integer' указывает, что переменные должны принимать только целочисленные значения.\n",
        "\n",
        "- Определяем целевую функцию как сумму произведений производительности каждого типа оборудования на их количество.\n",
        "\n",
        "```\n",
        "# prob += 1400*x1 + 900*x2 + 1000*x3 + 900*x4 + 1600*x5, \"Total Productivity\"\n",
        "```\n",
        "\n",
        "- Добавляем ограничения: ограничение по стоимости и ограничение по площади, чтобы общая стоимость оборудования не превышала доступные средства и общая площадь оборудования равнялась 180 кв.м.\n",
        "\n",
        "```\n",
        "# prob += 39*x1 + 38*x2 + 29*x3 + 57*x4 + 49*x5 <= int(result), \"Cost Constraint\"\n",
        "prob += 23*x1 + 21*x2 + 27*x3 + 8*x4 + 20*x5 <= 180, \"Area Constraint\"\n",
        "```\n",
        "\n",
        "- Решаем задачу с помощью prob.solve().\n",
        "\n",
        "- Выводим результаты, включая значения переменных и максимальную производительность третьего цеха.\n",
        "\n",
        "```\n",
        "# print(\"Результат оптимизации:\")\n",
        "for v in prob.variables():\n",
        "    print(v.name, \"=\", v.varValue)\n",
        "\n",
        "print(\"Максимальная производительность третьего цеха:\", value(prob.objective))\n",
        "```"
      ],
      "metadata": {
        "id": "iZqrsrx1Jmy9"
      }
    },
    {
      "cell_type": "markdown",
      "source": [
        "### ***Приложение***"
      ],
      "metadata": {
        "id": "W9CPfKZOQ68w"
      }
    },
    {
      "cell_type": "code",
      "source": [
        "pip install pulp"
      ],
      "metadata": {
        "colab": {
          "base_uri": "https://localhost:8080/"
        },
        "id": "iyV3RJRpLz9G",
        "outputId": "ef8db914-37bd-4819-847e-2b5105672b3a"
      },
      "execution_count": 2,
      "outputs": [
        {
          "output_type": "stream",
          "name": "stdout",
          "text": [
            "Collecting pulp\n",
            "  Downloading PuLP-2.8.0-py3-none-any.whl (17.7 MB)\n",
            "\u001b[2K     \u001b[90m━━━━━━━━━━━━━━━━━━━━━━━━━━━━━━━━━━━━━━━━\u001b[0m \u001b[32m17.7/17.7 MB\u001b[0m \u001b[31m15.0 MB/s\u001b[0m eta \u001b[36m0:00:00\u001b[0m\n",
            "\u001b[?25hInstalling collected packages: pulp\n",
            "Successfully installed pulp-2.8.0\n"
          ]
        }
      ]
    },
    {
      "cell_type": "code",
      "source": [
        "from pulp import *\n",
        "\n",
        "result = 0\n",
        "quarters = [\n",
        "    {\"ceh1\": 133, \"ceh2\": 52},\n",
        "    {\"ceh1\": 91, \"ceh2\": 36},\n",
        "    {\"ceh1\": 62, \"ceh2\": 25},\n",
        "    {\"ceh1\": 43, \"ceh2\": 17}\n",
        "]\n",
        "\n",
        "for idx, quarter in enumerate(quarters, start=1):\n",
        "    total = 0.75 * ((60 + 1.3 * (quarter[\"ceh1\"]) ** (2/3)) + (70 + 0.8 * (quarter[\"ceh2\"]) ** (2/3)))\n",
        "    result += total\n",
        "prob = LpProblem(\"Optimal_equipment\", LpMaximize)\n",
        "\n",
        "x1 = LpVariable(\"x1\", lowBound=0, cat='Integer')\n",
        "x2 = LpVariable(\"x2\", lowBound=0, cat='Integer')\n",
        "x3 = LpVariable(\"x3\", lowBound=0, cat='Integer')\n",
        "x4 = LpVariable(\"x4\", lowBound=0, cat='Integer')\n",
        "x5 = LpVariable(\"x5\", lowBound=0, cat='Integer')\n",
        "\n",
        "prob += 1400*x1 + 900*x2 + 1000*x3 + 900*x4 + 1600*x5, \"Total Productivity\"\n",
        "\n",
        "prob += 39*x1 + 38*x2 + 29*x3 + 57*x4 + 49*x5 <= int(result), \"Cost Constraint\"\n",
        "prob += 23*x1 + 21*x2 + 27*x3 + 8*x4 + 20*x5 <= 180, \"Area Constraint\"\n",
        "\n",
        "prob.solve()\n",
        "\n",
        "print(\"Результат оптимизации:\")\n",
        "for v in prob.variables():\n",
        "    print(v.name, \"=\", v.varValue)\n",
        "\n",
        "print(\"Максимальная производительность третьего цеха:\", value(prob.objective), \"млн.руб.\")"
      ],
      "metadata": {
        "colab": {
          "base_uri": "https://localhost:8080/"
        },
        "id": "DYMyyCA1tTtN",
        "outputId": "1c19f90a-7b21-4f47-bd45-3921ebc3689d"
      },
      "execution_count": 3,
      "outputs": [
        {
          "output_type": "stream",
          "name": "stdout",
          "text": [
            "Результат оптимизации:\n",
            "x1 = 0.0\n",
            "x2 = 0.0\n",
            "x3 = 0.0\n",
            "x4 = 0.0\n",
            "x5 = 9.0\n",
            "Максимальная производительность третьего цеха: 14400.0 млн.руб.\n"
          ]
        }
      ]
    },
    {
      "cell_type": "markdown",
      "source": [
        "**Влияние изменения (увеличения, уменьшения) количества средств на переход роли активного ограничения по территории, и вследствие этого — на выбор оптимального типа оборудования**\n",
        "\n",
        "Берём за активное ограничение территорию, так как деньги остались, а деньги нет, следовательно, надо менять площадь территории так, чтобы денег осталось как можно меньше.\n",
        "\n",
        "У нас есть два ограничения:\n",
        "1. Ограничение по стоимости `Cost Constraint`, которое должно быть не больше общей стоимости, рассчитанной ранее.\n",
        "2. Ограничение по площади `Area Constraint`, где мы учитываем изменение площади `area`, чтобы не превысить максимально допустимую площадь.\n",
        "\n",
        "После этого задача оптимизации решается методом solve(), и мы выводим результаты, включая значения переменных решения и максимальную производительность.\n",
        "\n",
        "Теперь, когда мы добавляем переменную area и изменяем ограничение по площади на `180 + area`, мы можем моделировать влияние изменения площади на выбор оптимального оборудования и производительность. Это позволяет нам исследовать чувствительность решения к изменениям в площади."
      ],
      "metadata": {
        "id": "-67Z5QqVlw2_"
      }
    },
    {
      "cell_type": "code",
      "source": [
        "from pulp import *\n",
        "\n",
        "result = 0\n",
        "quarters = [\n",
        "    {\"ceh1\": 133, \"ceh2\": 52},\n",
        "    {\"ceh1\": 91, \"ceh2\": 36},\n",
        "    {\"ceh1\": 62, \"ceh2\": 25},\n",
        "    {\"ceh1\": 43, \"ceh2\": 17}\n",
        "]\n",
        "\n",
        "for idx, quarter in enumerate(quarters, start=1):\n",
        "    total = 0.75 * ((60 + 1.3 * (quarter[\"ceh1\"]) ** (2/3)) + (70 + 0.8 * (quarter[\"ceh2\"]) ** (2/3)))\n",
        "    result += total\n",
        "\n",
        "prob = LpProblem(\"Optimal_equipment_sensitivity\", LpMaximize)\n",
        "\n",
        "x1 = LpVariable(\"x1\", lowBound=0, cat='Integer')\n",
        "x2 = LpVariable(\"x2\", lowBound=0, cat='Integer')\n",
        "x3 = LpVariable(\"x3\", lowBound=0, cat='Integer')\n",
        "x4 = LpVariable(\"x4\", lowBound=0, cat='Integer')\n",
        "x5 = LpVariable(\"x5\", lowBound=0, cat='Integer')\n",
        "area = LpVariable(\"area\", lowBound=0, cat='Continuous')  # Площадь\n",
        "\n",
        "prob += 1400*x1 + 900*x2 + 1000*x3 + 900*x4 + 1600*x5, \"Total Productivity\"\n",
        "\n",
        "prob += 39*x1 + 38*x2 + 29*x3 + 57*x4 + 49*x5 <= int(result), \"Cost Constraint\"\n",
        "prob += 23*x1 + 21*x2 + 27*x3 + 8*x4 + 20*x5 <= 180 + area, \"Area Constraint\"\n",
        "\n",
        "prob.solve()\n",
        "\n",
        "print(\"Результат оптимизации:\")\n",
        "for v in prob.variables():\n",
        "    print(v.name, \"=\", v.varValue)\n",
        "\n",
        "print(\"Максимальная производительность третьего цеха:\", value(prob.objective), \"млн.руб.\")\n",
        "\n",
        "\n"
      ],
      "metadata": {
        "colab": {
          "base_uri": "https://localhost:8080/"
        },
        "id": "IV9ru3XAC1O8",
        "outputId": "c0b441e1-42b9-4e72-fab9-bbe5a352fffe"
      },
      "execution_count": 4,
      "outputs": [
        {
          "output_type": "stream",
          "name": "stdout",
          "text": [
            "Результат оптимизации:\n",
            "area = 166.0\n",
            "x1 = 8.0\n",
            "x2 = 0.0\n",
            "x3 = 6.0\n",
            "x4 = 0.0\n",
            "x5 = 0.0\n",
            "Максимальная производительность третьего цеха: 17200.0 млн.руб.\n"
          ]
        }
      ]
    },
    {
      "cell_type": "markdown",
      "source": [
        "**Выявление границ изменения количества средств, в пределах которых оптимальным\n",
        "является выбор 2-х и более типов оборудования.**\n",
        "\n",
        "Функция find_optimal_ranges() находит оптимальные диапазоны стоимости оборудования, учитывая коэффициент стоимости:\n",
        "\n",
        "`optimal_ranges = []` - создается пустой список optimal_ranges, в который будут добавляться оптимальные диапазоны стоимости оборудования.\n",
        "\n",
        "`equipment_selections = []` - создается пустой список equipment_selections, в который будут добавляться выбранные типы оборудования и их количество в оптимальном диапазоне.\n",
        "\n",
        "`min_funds = None` и `max_funds = None` - устанавливаются переменные для минимальной и максимальной стоимости оборудования в текущем диапазоне.\n",
        "\n",
        "Внутри цикла вызывается функция `optimize_equipment(cost_coefficient/100)`, которая оптимизирует выбор оборудования для данного коэффициента стоимости.\n",
        "\n",
        "Затем выбранные типы оборудования сохраняются в словаре `selected_equipment`, где ключ - название оборудования, а значение - количество штук.\n",
        "\n",
        "Если выбрано 2 и более типов оборудования, то обновляются минимальная и максимальная стоимость `min_funds` и `max_funds`, сохраним выбранные типы оборудования и их количество в `equipment_selections`.\n",
        "\n",
        "Если выбран только 1 тип оборудования, то сохраняем текущий оптимальный диапазон стоимости в `optimal_ranges`, обнуляем значения минимальной и максимальной стоимости, а также `equipment_selections`.\n",
        "\n",
        "По завершении цикла проверяем, если минимальная стоимость не равна None, добавляем последний оптимальный диапазон стоимости в `optimal_ranges`.\n",
        "\n",
        "В конце функции возвращается список `optimal_ranges`.\n",
        "\n"
      ],
      "metadata": {
        "id": "h2Zby7SmmoRQ"
      }
    },
    {
      "cell_type": "code",
      "source": [
        "from pulp import *\n",
        "import matplotlib.pyplot as plt\n",
        "result = 0\n",
        "quarters = [\n",
        "    {\"ceh1\": 133, \"ceh2\": 52},\n",
        "    {\"ceh1\": 91, \"ceh2\": 36},\n",
        "    {\"ceh1\": 62, \"ceh2\": 25},\n",
        "    {\"ceh1\": 43, \"ceh2\": 17}\n",
        "]\n",
        "\n",
        "for idx, quarter in enumerate(quarters, start=1):\n",
        "    total = 0.75 * ((60 + 1.3 * (quarter[\"ceh1\"]) ** (2/3)) + (70 + 0.8 * (quarter[\"ceh2\"]) ** (2/3)))\n",
        "    result += total\n",
        "\n",
        "def optimize_equipment(cost_constraint_coefficient):\n",
        "    prob = LpProblem(\"Optimal_equipment\", LpMaximize)\n",
        "\n",
        "    x1 = LpVariable(\"x1\", lowBound=0, cat='Integer')\n",
        "    x2 = LpVariable(\"x2\", lowBound=0, cat='Integer')\n",
        "    x3 = LpVariable(\"x3\", lowBound=0, cat='Integer')\n",
        "    x4 = LpVariable(\"x4\", lowBound=0, cat='Integer')\n",
        "    x5 = LpVariable(\"x5\", lowBound=0, cat='Integer')\n",
        "\n",
        "    prob += 1400*x1 + 900*x2 + 1000*x3 + 900*x4 + 1600*x5, \"Total Productivity\"\n",
        "\n",
        "    prob += 39*x1 + 38*x2 + 29*x3 + 57*x4 + 49*x5 <= int(result * cost_constraint_coefficient), \"Cost Constraint\"\n",
        "    prob += 23*x1 + 21*x2 + 27*x3 + 8*x4 + 20*x5 <= 180, \"Area Constraint\"\n",
        "\n",
        "    prob.solve()\n",
        "    return prob\n",
        "\n",
        "def find_optimal_ranges():\n",
        "    optimal_ranges = []\n",
        "    equipment_selections = []\n",
        "\n",
        "    min_funds = None\n",
        "    max_funds = None\n",
        "\n",
        "    for cost_coefficient in range(80, 161, 1):\n",
        "        optimized_prob = optimize_equipment(cost_coefficient/100)\n",
        "        selected_equipment = {v.name: int(v.varValue) for v in optimized_prob.variables() if v.varValue > 0}\n",
        "\n",
        "        if len(selected_equipment) >= 2:\n",
        "            if min_funds is None:\n",
        "                min_funds = cost_coefficient / 100\n",
        "            max_funds = cost_coefficient / 100\n",
        "\n",
        "            equipment_selections.append(selected_equipment)\n",
        "        else:\n",
        "            if min_funds is not None:\n",
        "                optimal_ranges.append((min_funds, max_funds, equipment_selections))\n",
        "                min_funds = None\n",
        "                max_funds = None\n",
        "                equipment_selections = []\n",
        "\n",
        "    if min_funds is not None:\n",
        "        optimal_ranges.append((min_funds, max_funds, equipment_selections))\n",
        "\n",
        "    return optimal_ranges\n",
        "\n",
        "optimal_ranges = find_optimal_ranges()\n",
        "\n",
        "print(\"Промежутки количества средств, для которых оптимальным будет выбор двух и более типов оборудования:\")\n",
        "for r in optimal_ranges:\n",
        "    print(f\"Минимальное количество средств: {int(r[0] * result)} млн.руб\")\n",
        "    print(f\"Максимальное количество средств: {int(r[1] * result)} млн.руб\")\n",
        "    print(\"Выбранные типы оборудования и количество штук:\")\n",
        "    for selection in r[2]:\n",
        "        print(\", \".join([f\"Тип {equipment}: {quantity} шт|\" for equipment, quantity in selection.items()]))\n",
        "    print()\n",
        "\n",
        "min_funds_values = [r[0] for r in optimal_ranges]\n",
        "num_selected_equipment = [sum([quantity for selection in r[2] for quantity in selection.values()]) for r in optimal_ranges]\n",
        "\n",
        "plt.plot(min_funds_values, num_selected_equipment)\n",
        "plt.xlabel('Минимальное количество средств')\n",
        "plt.ylabel('Общее количество выбранного оборудования')\n",
        "plt.title('Общее количество выбранного оборудования в зависимости от минимального количества средств')\n",
        "plt.grid(True)\n",
        "plt.show()\n"
      ],
      "metadata": {
        "colab": {
          "base_uri": "https://localhost:8080/",
          "height": 1000
        },
        "id": "OIuRjx95K-YQ",
        "outputId": "8ee752ab-c274-4fd2-9f2f-bb888e52a7ca"
      },
      "execution_count": 5,
      "outputs": [
        {
          "output_type": "stream",
          "name": "stdout",
          "text": [
            "Промежутки количества средств, для которых оптимальным будет выбор двух и более типов оборудования:\n",
            "Минимальное количество средств: 389 млн.руб\n",
            "Максимальное количество средств: 389 млн.руб\n",
            "Выбранные типы оборудования и количество штук:\n",
            "Тип x1: 1 шт|, Тип x5: 7 шт|\n",
            "\n",
            "Минимальное количество средств: 413 млн.руб\n",
            "Максимальное количество средств: 437 млн.руб\n",
            "Выбранные типы оборудования и количество штук:\n",
            "Тип x1: 4 шт|, Тип x4: 1 шт|, Тип x5: 4 шт|\n",
            "Тип x1: 4 шт|, Тип x4: 1 шт|, Тип x5: 4 шт|\n",
            "Тип x1: 3 шт|, Тип x4: 1 шт|, Тип x5: 5 шт|\n",
            "Тип x1: 3 шт|, Тип x4: 1 шт|, Тип x5: 5 шт|\n",
            "Тип x1: 2 шт|, Тип x4: 1 шт|, Тип x5: 6 шт|\n",
            "Тип x1: 2 шт|, Тип x4: 1 шт|, Тип x5: 6 шт|\n",
            "\n",
            "Минимальное количество средств: 496 млн.руб\n",
            "Максимальное количество средств: 778 млн.руб\n",
            "Выбранные типы оборудования и количество штук:\n",
            "Тип x1: 1 шт|, Тип x4: 2 шт|, Тип x5: 7 шт|\n",
            "Тип x1: 1 шт|, Тип x4: 2 шт|, Тип x5: 7 шт|\n",
            "Тип x1: 1 шт|, Тип x4: 2 шт|, Тип x5: 7 шт|\n",
            "Тип x4: 2 шт|, Тип x5: 8 шт|\n",
            "Тип x4: 2 шт|, Тип x5: 8 шт|\n",
            "Тип x4: 2 шт|, Тип x5: 8 шт|\n",
            "Тип x4: 2 шт|, Тип x5: 8 шт|\n",
            "Тип x4: 2 шт|, Тип x5: 8 шт|\n",
            "Тип x4: 2 шт|, Тип x5: 8 шт|\n",
            "Тип x4: 2 шт|, Тип x5: 8 шт|\n",
            "Тип x4: 2 шт|, Тип x5: 8 шт|\n",
            "Тип x4: 2 шт|, Тип x5: 8 шт|\n",
            "Тип x4: 2 шт|, Тип x5: 8 шт|\n",
            "Тип x4: 2 шт|, Тип x5: 8 шт|\n",
            "Тип x4: 2 шт|, Тип x5: 8 шт|\n",
            "Тип x4: 2 шт|, Тип x5: 8 шт|\n",
            "Тип x4: 4 шт|, Тип x5: 7 шт|\n",
            "Тип x4: 4 шт|, Тип x5: 7 шт|\n",
            "Тип x4: 4 шт|, Тип x5: 7 шт|\n",
            "Тип x4: 4 шт|, Тип x5: 7 шт|\n",
            "Тип x4: 4 шт|, Тип x5: 7 шт|\n",
            "Тип x4: 4 шт|, Тип x5: 7 шт|\n",
            "Тип x4: 4 шт|, Тип x5: 7 шт|\n",
            "Тип x4: 4 шт|, Тип x5: 7 шт|\n",
            "Тип x4: 4 шт|, Тип x5: 7 шт|\n",
            "Тип x4: 4 шт|, Тип x5: 7 шт|\n",
            "Тип x4: 4 шт|, Тип x5: 7 шт|\n",
            "Тип x4: 4 шт|, Тип x5: 7 шт|\n",
            "Тип x4: 5 шт|, Тип x5: 7 шт|\n",
            "Тип x4: 5 шт|, Тип x5: 7 шт|\n",
            "Тип x4: 5 шт|, Тип x5: 7 шт|\n",
            "Тип x4: 5 шт|, Тип x5: 7 шт|\n",
            "Тип x4: 5 шт|, Тип x5: 7 шт|\n",
            "Тип x4: 5 шт|, Тип x5: 7 шт|\n",
            "Тип x4: 5 шт|, Тип x5: 7 шт|\n",
            "Тип x4: 5 шт|, Тип x5: 7 шт|\n",
            "Тип x4: 5 шт|, Тип x5: 7 шт|\n",
            "Тип x4: 5 шт|, Тип x5: 7 шт|\n",
            "Тип x4: 5 шт|, Тип x5: 7 шт|\n",
            "Тип x1: 1 шт|, Тип x4: 7 шт|, Тип x5: 5 шт|\n",
            "Тип x1: 1 шт|, Тип x4: 7 шт|, Тип x5: 5 шт|\n",
            "Тип x4: 7 шт|, Тип x5: 6 шт|\n",
            "Тип x4: 7 шт|, Тип x5: 6 шт|\n",
            "Тип x4: 7 шт|, Тип x5: 6 шт|\n",
            "Тип x4: 7 шт|, Тип x5: 6 шт|\n",
            "Тип x4: 7 шт|, Тип x5: 6 шт|\n",
            "Тип x4: 7 шт|, Тип x5: 6 шт|\n",
            "Тип x4: 7 шт|, Тип x5: 6 шт|\n",
            "Тип x4: 7 шт|, Тип x5: 6 шт|\n",
            "Тип x4: 7 шт|, Тип x5: 6 шт|\n",
            "Тип x4: 7 шт|, Тип x5: 6 шт|\n",
            "Тип x4: 7 шт|, Тип x5: 6 шт|\n",
            "Тип x4: 7 шт|, Тип x5: 6 шт|\n",
            "Тип x4: 7 шт|, Тип x5: 6 шт|\n",
            "Тип x4: 9 шт|, Тип x5: 5 шт|\n",
            "Тип x4: 9 шт|, Тип x5: 5 шт|\n",
            "Тип x4: 9 шт|, Тип x5: 5 шт|\n",
            "Тип x4: 9 шт|, Тип x5: 5 шт|\n",
            "Тип x4: 9 шт|, Тип x5: 5 шт|\n",
            "\n"
          ]
        },
        {
          "output_type": "display_data",
          "data": {
            "text/plain": [
              "<Figure size 640x480 with 1 Axes>"
            ],
            "image/png": "[encoded data removed]"
          },
          "metadata": {}
        }
      ]
    },
    {
      "cell_type": "markdown",
      "source": [
        "## ***Вывод***\n"
      ],
      "metadata": {
        "id": "G3cb43CpIyE-"
      }
    },
    {
      "cell_type": "markdown",
      "source": [
        "***Интерпретируя результат оптимизации нашей задачи:***\n",
        "\n",
        "- Можно придти к выводу, что приобретение оборудования только пятого типа суммарно обеспечивает максимальную производительность третьего цеха.\n",
        "- Другие типы оборудования (первого, второго, третьего и четвертого типов) не требуются, чтобы достичь этой максимальной производительности, поэтому их количество остается равным нулю.\n",
        "\n",
        "Это означает, что оптимальным решением для вашей задачи будет приобретение только оборудования пятого типа в количестве 9 единиц.\n",
        "\n",
        "***Влияние изменения (увеличения, уменьшения) количества средств на переход роли активного ограничения (либо по площади, либо по стоимости), и вследствие этого — на выбор оптимального типа оборудования:***\n",
        "\n",
        "- Например, При увеличении ограничения по площади с 180 до 346, происходит сдвиг с использования оборудования типа $x_5$ к использованию оборудования типа $x_1$ и $x_3$, что увеличивает производительность до 17200.\n",
        "\n",
        "Таким образом, изменение количества средств на переход роли активного ограничения по площади влияет на выбор оптимального типа оборудования и производительность производственного процесса и при этом,чтобы осталось как можно меньше денег и ограничение по деньгам стало активным.\n",
        "\n",
        "***Выяснить границы изменения количества средств, в пределах которых оптимальным является выбор 2-х и более типов оборудования.***\n",
        "\n",
        "- Можно сделать вывод, что для выбора двух и более типов оборудования оптимальными значениями количества средств являются от 389 млн.руб до 778 млн.руб. Для каждого конкретного количества средств в этом диапазоне представлены сочетания типов оборудования и их количество, которые обеспечивают оптимальное решение задачи. Например, при 413 млн.руб средств оптимальным является сочетание 4 шт. оборудования типа x1, 1 шт. оборудования типа x4 и 4 шт. оборудования типа x5.\n",
        "\n",
        "Таким образом, можно использовать данные промежутки количества средств и сочетания типов оборудования для оптимального планирования закупок и распределения ресурсов в рамках данной задачи.\n"
      ],
      "metadata": {
        "id": "4YVgO5jhNdMn"
      }
    }
  ]
}